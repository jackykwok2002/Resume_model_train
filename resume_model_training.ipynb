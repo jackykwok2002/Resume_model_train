{
  "nbformat": 4,
  "nbformat_minor": 0,
  "metadata": {
    "accelerator": "GPU",
    "colab": {
      "name": "resume_model_training.ipynb",
      "provenance": [],
      "collapsed_sections": [],
      "authorship_tag": "ABX9TyP9UHpDkYLrREaui/PY2AUD",
      "include_colab_link": true
    },
    "kernelspec": {
      "display_name": "Python 3",
      "name": "python3"
    },
    "language_info": {
      "name": "python"
    }
  },
  "cells": [
    {
      "cell_type": "markdown",
      "metadata": {
        "id": "view-in-github",
        "colab_type": "text"
      },
      "source": [
        "<a href=\"https://colab.research.google.com/github/jackykwok2002/Resume_model_train/blob/main/resume_model_training.ipynb\" target=\"_parent\"><img src=\"https://colab.research.google.com/assets/colab-badge.svg\" alt=\"Open In Colab\"/></a>"
      ]
    },
    {
      "cell_type": "code",
      "metadata": {
        "id": "A8vzKEg-WIDP"
      },
      "source": [
        "import pandas as pd # load and manipulate data and for One-Hot Encoding\n",
        "import numpy as np # calculate the mean and standard deviation\n",
        "import xgboost as xgb # XGBoost stuff\n",
        "from sklearn.model_selection import train_test_split # split  data into training and testing sets\n",
        "from sklearn.metrics import balanced_accuracy_score, roc_auc_score, make_scorer # for scoring during cross validation\n",
        "from sklearn.model_selection import GridSearchCV # cross validation\n",
        "from sklearn.metrics import confusion_matrix # creates a confusion matrix\n",
        "from sklearn.metrics import plot_confusion_matrix # draws a confusion matrix\n",
        "from sklearn.preprocessing import LabelEncoder\n",
        "from sklearn.preprocessing import OrdinalEncoder"
      ],
      "execution_count": null,
      "outputs": []
    },
    {
      "cell_type": "code",
      "metadata": {
        "id": "nIv1EjzfWP1t"
      },
      "source": [
        "df = pd.read_csv(\"sdfz_resume.csv\")\n",
        "df = df.drop(['原始文本','姓名','投递时间','电话','邮箱','岗位','工作经历','技能'], axis=1) #temporarily drop 工作经历\n",
        "df = df.drop_duplicates() "
      ],
      "execution_count": null,
      "outputs": []
    },
    {
      "cell_type": "code",
      "metadata": {
        "id": "rOpcuMJtWs-g"
      },
      "source": [
        "# 工作年限转换为Integer\n",
        "def toNumber(x):\n",
        "  if x[\"工作年限\"] is None:\n",
        "    return \n",
        "\n",
        "  s = str(x[\"工作年限\"])\n",
        "\n",
        "  if '毕业' in s:\n",
        "    return 0\n",
        "  elif '1年及以内' in s or '1年以内' in s:\n",
        "    return 0.5\n",
        "  else:\n",
        "    import re\n",
        "    return re.sub(\"[^0-9]\", \"\", s)\n",
        "\n",
        "df[\"工作年限\"] = df.apply(toNumber, axis=1)\n",
        "df['工作年限'] = pd.to_numeric(df['工作年限'])\n",
        "df['工作年限'].unique()\n",
        "\n",
        "# 将学历过滤\n",
        "def filterEducation(x):\n",
        "  if '深圳' in str(x[\"学历\"]):\n",
        "    return None \n",
        "  else:\n",
        "    return x[\"学历\"]\n",
        "\n",
        "df[\"学历\"] = df.apply(filterEducation, axis=1)\n",
        "\n",
        "# 性别过滤\n",
        "def filterSex(x):\n",
        "  if '男' in str(x[\"性别\"]) or '女' in str(x[\"性别\"]):\n",
        "    return x[\"性别\"]\n",
        "  else:\n",
        "    return None\n",
        "\n",
        "df[\"性别\"] = df.apply(filterSex, axis=1)\n"
      ],
      "execution_count": null,
      "outputs": []
    },
    {
      "cell_type": "code",
      "metadata": {
        "id": "2od8gzIUhzx7"
      },
      "source": [
        "# 毕业时间\n",
        "def filterGraduation(x):\n",
        "  s = str(x[\"毕业时间\"])\n",
        "  if '-' in s:\n",
        "    s = s.split('-')[0]\n",
        "  if '/' in s:\n",
        "    s = s.split('/')[2]\n",
        "  s = s.replace(\"届\", \"\").replace('级别','').replace('级','').replace('15659420518','0').replace('nan','0')\n",
        "  return s\n",
        "\n",
        "df[\"毕业时间\"] = df.apply(filterGraduation, axis=1)\n",
        "df['毕业时间'] = pd.to_numeric(df['毕业时间'])"
      ],
      "execution_count": null,
      "outputs": []
    },
    {
      "cell_type": "code",
      "metadata": {
        "id": "giPj_93OLjpJ"
      },
      "source": [
        "# Use number to represent schools\n",
        "# 学校转换为数字\n",
        "\n",
        "global school_lst\n",
        "school_lst = list(df['毕业院校'].unique().astype(str).copy())\n",
        "school_lst.sort()\n",
        "\n",
        "df['毕业院校'] = df['毕业院校'].apply(lambda x: school_lst.index(str(x)))\n"
      ],
      "execution_count": null,
      "outputs": []
    },
    {
      "cell_type": "code",
      "metadata": {
        "id": "jGlCn7y7Xa_1"
      },
      "source": [
        "# 处理“技能”\n",
        "# 转换为list\n",
        "# def skillsToList(x):\n",
        "#   if str(x[\"技能\"]) == 'nan':\n",
        "#     return []\n",
        "#   return str(x[\"技能\"]).split(' | ')\n",
        "# df[\"技能\"] = df.apply(skillsToList, axis=1)\n",
        "\n",
        "# # One Hot Encoded #source:https://stackoverflow.com/questions/45312377/how-to-one-hot-encode-from-a-pandas-column-containing-a-list\n",
        "# from sklearn.preprocessing import MultiLabelBinarizer\n",
        "# mlb = MultiLabelBinarizer()\n",
        "# df = df.join(pd.DataFrame(mlb.fit_transform(df.pop('技能')),\n",
        "#                           columns=mlb.classes_,\n",
        "#                           index=df.index))"
      ],
      "execution_count": null,
      "outputs": []
    },
    {
      "cell_type": "code",
      "metadata": {
        "id": "rjoTLOfAmzQd"
      },
      "source": [
        "# Split the Data into Dependent and Independent Variables\n",
        "X = df.drop('应聘职位', axis=1).copy() \n",
        "y = df['应聘职位'].copy().astype(str)"
      ],
      "execution_count": null,
      "outputs": []
    },
    {
      "cell_type": "code",
      "metadata": {
        "id": "C6nHgO_8p71P"
      },
      "source": [
        "# One Hot Encode the rest\n",
        "X_encoded = pd.get_dummies(X, columns=['专业', \n",
        "                                       '学历', \n",
        "                                       '工作地点', \n",
        "                                       '性别',\n",
        "                                       '类别',\n",
        "                                       '应聘渠道'])"
      ],
      "execution_count": null,
      "outputs": []
    },
    {
      "cell_type": "code",
      "metadata": {
        "id": "tL8WKvRU47y6"
      },
      "source": [
        "le = LabelEncoder()\n",
        "y = le.fit_transform(y)"
      ],
      "execution_count": null,
      "outputs": []
    },
    {
      "cell_type": "code",
      "metadata": {
        "id": "8Bk74BPP2tg1"
      },
      "source": [
        "# Spliting the data into training and testing sets\n",
        "X_train, X_test, y_train, y_test = train_test_split(X_encoded, y, test_size = 0.2, random_state = 6688)"
      ],
      "execution_count": null,
      "outputs": []
    },
    {
      "cell_type": "code",
      "metadata": {
        "colab": {
          "base_uri": "https://localhost:8080/"
        },
        "id": "NLDedqEa-Ls4",
        "outputId": "f0fc0c10-1d80-46dc-b055-c95a0be9f785"
      },
      "source": [
        "clf_xgb = xgb.XGBClassifier(objective='multi:softmax',\n",
        "                            eval_metric=\"logloss\", ## this avoids a warning...\n",
        "                            seed=42, \n",
        "                            use_label_encoder=False)\n",
        "clf_xgb.fit(X_train, \n",
        "            y_train,\n",
        "            verbose=True,\n",
        "            early_stopping_rounds=10,\n",
        "            eval_metric='mlogloss',\n",
        "            eval_set=[(X_test, y_test)])"
      ],
      "execution_count": null,
      "outputs": [
        {
          "output_type": "stream",
          "text": [
            "[0]\tvalidation_0-mlogloss:3.94116\n",
            "Will train until validation_0-mlogloss hasn't improved in 10 rounds.\n",
            "[1]\tvalidation_0-mlogloss:3.65526\n",
            "[2]\tvalidation_0-mlogloss:3.46611\n",
            "[3]\tvalidation_0-mlogloss:3.32155\n",
            "[4]\tvalidation_0-mlogloss:3.20425\n",
            "[5]\tvalidation_0-mlogloss:3.10451\n"
          ],
          "name": "stdout"
        }
      ]
    }
  ]
}